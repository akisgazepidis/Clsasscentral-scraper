{
 "cells": [
  {
   "cell_type": "code",
   "execution_count": 1,
   "metadata": {
    "ExecuteTime": {
     "end_time": "2021-07-15T08:37:40.553388Z",
     "start_time": "2021-07-15T08:37:38.014485Z"
    }
   },
   "outputs": [],
   "source": [
    "import requests\n",
    "from bs4 import BeautifulSoup\n",
    "from time import sleep\n",
    "import csv\n",
    "import random\n",
    "from tqdm.notebook import tqdm as tqdm \n",
    "import numpy as np\n",
    "import pandas as pd \n",
    "import json\n",
    "import datetime\n",
    "from scipy import stats\n",
    "import time\n",
    "from datetime import timedelta\n",
    "import re\n",
    "import string"
   ]
  },
  {
   "cell_type": "code",
   "execution_count": 243,
   "metadata": {
    "ExecuteTime": {
     "end_time": "2021-07-16T09:47:50.870697Z",
     "start_time": "2021-07-16T09:47:50.564737Z"
    }
   },
   "outputs": [],
   "source": [
    "courses = pd.read_csv('courses.csv')"
   ]
  },
  {
   "cell_type": "code",
   "execution_count": 245,
   "metadata": {
    "ExecuteTime": {
     "end_time": "2021-07-16T09:48:10.364175Z",
     "start_time": "2021-07-16T09:48:10.338278Z"
    }
   },
   "outputs": [
    {
     "data": {
      "text/html": [
       "<div>\n",
       "<style scoped>\n",
       "    .dataframe tbody tr th:only-of-type {\n",
       "        vertical-align: middle;\n",
       "    }\n",
       "\n",
       "    .dataframe tbody tr th {\n",
       "        vertical-align: top;\n",
       "    }\n",
       "\n",
       "    .dataframe thead th {\n",
       "        text-align: right;\n",
       "    }\n",
       "</style>\n",
       "<table border=\"1\" class=\"dataframe\">\n",
       "  <thead>\n",
       "    <tr style=\"text-align: right;\">\n",
       "      <th></th>\n",
       "      <th>certificate_availability</th>\n",
       "      <th>cost</th>\n",
       "      <th>course_link</th>\n",
       "      <th>course_name</th>\n",
       "      <th>duration</th>\n",
       "      <th>language</th>\n",
       "      <th>overview</th>\n",
       "      <th>reviews</th>\n",
       "      <th>site</th>\n",
       "      <th>stars</th>\n",
       "    </tr>\n",
       "  </thead>\n",
       "  <tbody>\n",
       "    <tr>\n",
       "      <th>0</th>\n",
       "      <td>Certificate Available</td>\n",
       "      <td>Free Online Course</td>\n",
       "      <td>https://www.classcentral.com/course/independen...</td>\n",
       "      <td>Elements of AI</td>\n",
       "      <td>6 weeks long, 5-10 hours a week</td>\n",
       "      <td>English</td>\n",
       "      <td>Overview  The goal of this course is to demyst...</td>\n",
       "      <td>641 reviews</td>\n",
       "      <td>classcentral</td>\n",
       "      <td>Five out of five stars</td>\n",
       "    </tr>\n",
       "    <tr>\n",
       "      <th>1</th>\n",
       "      <td>Paid Certificate Available</td>\n",
       "      <td>Free Online Course (Audit)</td>\n",
       "      <td>https://www.classcentral.com/course/machine-le...</td>\n",
       "      <td>Machine Learning</td>\n",
       "      <td>11 weeks long, 60 hours worth of material</td>\n",
       "      <td>English</td>\n",
       "      <td>Overview  Class Central Tips            Learn ...</td>\n",
       "      <td>375 reviews</td>\n",
       "      <td>classcentral</td>\n",
       "      <td>Five out of five stars</td>\n",
       "    </tr>\n",
       "    <tr>\n",
       "      <th>2</th>\n",
       "      <td>Paid Certificate Available</td>\n",
       "      <td>Free Online Course</td>\n",
       "      <td>https://www.classcentral.com/course/swayam-cyb...</td>\n",
       "      <td>Cyber Security</td>\n",
       "      <td>15 weeks long</td>\n",
       "      <td>English</td>\n",
       "      <td>Overview            1. Why this Course on Cybe...</td>\n",
       "      <td>236 reviews</td>\n",
       "      <td>classcentral</td>\n",
       "      <td>Four and a half out of five stars</td>\n",
       "    </tr>\n",
       "    <tr>\n",
       "      <th>3</th>\n",
       "      <td>$149.00 Certificate Available</td>\n",
       "      <td>Free Online Course (Audit)</td>\n",
       "      <td>https://www.classcentral.com/course/edx-unlock...</td>\n",
       "      <td>Unlocking Information Security I: From Cryptog...</td>\n",
       "      <td>5 weeks long, 4-6 hours a week</td>\n",
       "      <td>English</td>\n",
       "      <td>Overview   Information Security is everywhere:...</td>\n",
       "      <td>236 reviews</td>\n",
       "      <td>classcentral</td>\n",
       "      <td>Five out of five stars</td>\n",
       "    </tr>\n",
       "    <tr>\n",
       "      <th>4</th>\n",
       "      <td>Paid Certificate Available</td>\n",
       "      <td>Free Online Course (Audit)</td>\n",
       "      <td>https://www.classcentral.com/course/informatio...</td>\n",
       "      <td>Information Systems Auditing, Controls and Ass...</td>\n",
       "      <td>4 weeks long, 8 hours worth of material</td>\n",
       "      <td>English</td>\n",
       "      <td>Overview  Class Central Tips            Learn ...</td>\n",
       "      <td>208 reviews</td>\n",
       "      <td>classcentral</td>\n",
       "      <td>Four and a half out of five stars</td>\n",
       "    </tr>\n",
       "  </tbody>\n",
       "</table>\n",
       "</div>"
      ],
      "text/plain": [
       "        certificate_availability                        cost  \\\n",
       "0          Certificate Available          Free Online Course   \n",
       "1     Paid Certificate Available  Free Online Course (Audit)   \n",
       "2     Paid Certificate Available          Free Online Course   \n",
       "3  $149.00 Certificate Available  Free Online Course (Audit)   \n",
       "4     Paid Certificate Available  Free Online Course (Audit)   \n",
       "\n",
       "                                         course_link  \\\n",
       "0  https://www.classcentral.com/course/independen...   \n",
       "1  https://www.classcentral.com/course/machine-le...   \n",
       "2  https://www.classcentral.com/course/swayam-cyb...   \n",
       "3  https://www.classcentral.com/course/edx-unlock...   \n",
       "4  https://www.classcentral.com/course/informatio...   \n",
       "\n",
       "                                         course_name  \\\n",
       "0                                     Elements of AI   \n",
       "1                                   Machine Learning   \n",
       "2                                     Cyber Security   \n",
       "3  Unlocking Information Security I: From Cryptog...   \n",
       "4  Information Systems Auditing, Controls and Ass...   \n",
       "\n",
       "                                    duration language  \\\n",
       "0            6 weeks long, 5-10 hours a week  English   \n",
       "1  11 weeks long, 60 hours worth of material  English   \n",
       "2                              15 weeks long  English   \n",
       "3             5 weeks long, 4-6 hours a week  English   \n",
       "4    4 weeks long, 8 hours worth of material  English   \n",
       "\n",
       "                                            overview      reviews  \\\n",
       "0  Overview  The goal of this course is to demyst...  641 reviews   \n",
       "1  Overview  Class Central Tips            Learn ...  375 reviews   \n",
       "2  Overview            1. Why this Course on Cybe...  236 reviews   \n",
       "3  Overview   Information Security is everywhere:...  236 reviews   \n",
       "4  Overview  Class Central Tips            Learn ...  208 reviews   \n",
       "\n",
       "           site                              stars  \n",
       "0  classcentral             Five out of five stars  \n",
       "1  classcentral             Five out of five stars  \n",
       "2  classcentral  Four and a half out of five stars  \n",
       "3  classcentral             Five out of five stars  \n",
       "4  classcentral  Four and a half out of five stars  "
      ]
     },
     "execution_count": 245,
     "metadata": {},
     "output_type": "execute_result"
    }
   ],
   "source": [
    "courses.head()"
   ]
  },
  {
   "cell_type": "code",
   "execution_count": 248,
   "metadata": {
    "ExecuteTime": {
     "end_time": "2021-07-16T10:34:40.824626Z",
     "start_time": "2021-07-16T10:34:40.815650Z"
    }
   },
   "outputs": [
    {
     "data": {
      "text/plain": [
       "(4348, 10)"
      ]
     },
     "execution_count": 248,
     "metadata": {},
     "output_type": "execute_result"
    }
   ],
   "source": [
    "courses.shape"
   ]
  },
  {
   "cell_type": "code",
   "execution_count": 86,
   "metadata": {
    "ExecuteTime": {
     "end_time": "2021-07-15T09:32:08.267511Z",
     "start_time": "2021-07-15T09:27:35.799445Z"
    }
   },
   "outputs": [
    {
     "data": {
      "application/vnd.jupyter.widget-view+json": {
       "model_id": "9266c34d51d0445b982f46b92f6b4599",
       "version_major": 2,
       "version_minor": 0
      },
      "text/plain": [
       "HBox(children=(HTML(value=''), FloatProgress(value=0.0, max=87.0), HTML(value='')))"
      ]
     },
     "metadata": {},
     "output_type": "display_data"
    },
    {
     "name": "stdout",
     "output_type": "stream",
     "text": [
      "\n"
     ]
    }
   ],
   "source": [
    "missing = np.nan\n",
    "df = pd.DataFrame()\n",
    "for i in tqdm(range(87)):\n",
    "    response = requests.get('https://www.classcentral.com/subject/cs?page='+ f'{i+1}', timeout= 15)\n",
    "    sleep(random.uniform(1,2))\n",
    "    if response.status_code == 200:\n",
    "        soup = BeautifulSoup(response.content, 'html.parser')\n",
    "        tags = soup.find_all('td', class_ = 'width-12-16 large-up-width-8-16 xxlarge-up-width-9-16 relative')\n",
    "        final_tags = []\n",
    "        for tag in tags:\n",
    "            if not tag.get('data-track-impression'):\n",
    "                final_tags.append(tag)\n",
    "        for final_tag in final_tags:\n",
    "            site = 'classcentral'\n",
    "            try:\n",
    "               course_name = final_tag.find('span', class_='text-1 weight-semi line-tight').text.strip()\n",
    "            except:\n",
    "                course_name = missing\n",
    "            try:\n",
    "                course_link = ('https://www.classcentral.com'+final_tag.find('a', class_='color-charcoal block line-tight course-name').get('href'))\n",
    "            except:\n",
    "                course_link = missing\n",
    "            temp_dic1 = {'site' : site,\n",
    "                  'course_name' : course_name,\n",
    "                  'course_link' : course_link,}\n",
    "            df =(df.append(temp_dic1, ignore_index=True))\n",
    "    else:\n",
    "        print('Response Status in page links not 200')"
   ]
  },
  {
   "cell_type": "code",
   "execution_count": 237,
   "metadata": {
    "ExecuteTime": {
     "end_time": "2021-07-15T11:45:18.529298Z",
     "start_time": "2021-07-15T11:45:18.523314Z"
    }
   },
   "outputs": [],
   "source": [
    "courses = pd.DataFrame()"
   ]
  },
  {
   "cell_type": "code",
   "execution_count": 238,
   "metadata": {
    "ExecuteTime": {
     "end_time": "2021-07-15T16:54:29.831924Z",
     "start_time": "2021-07-15T11:47:09.628042Z"
    }
   },
   "outputs": [
    {
     "data": {
      "application/vnd.jupyter.widget-view+json": {
       "model_id": "32addadcb97e44d7ac648bbd159260cd",
       "version_major": 2,
       "version_minor": 0
      },
      "text/plain": [
       "HBox(children=(HTML(value=''), FloatProgress(value=1.0, bar_style='info', layout=Layout(width='20px'), max=1.0…"
      ]
     },
     "metadata": {},
     "output_type": "display_data"
    },
    {
     "name": "stdout",
     "output_type": "stream",
     "text": [
      "\n"
     ]
    }
   ],
   "source": [
    "for index, row in tqdm(df.iterrows()):\n",
    "    course_link = row['course_link']\n",
    "    try:\n",
    "        response = requests.get(course_link, timeout= 15)\n",
    "        sleep(random.uniform(2,3))\n",
    "        if response.status_code == 200:\n",
    "            soup = BeautifulSoup(response.content, 'html.parser')\n",
    "            info = soup.find('div', class_= 'bg-white small-down-padding-medium padding-large border-all border-gray-light radius-small margin-bottom-medium')\n",
    "            lis = info.find_all('li', class_ = 'nowrap padding-horz-small padding-vert-xsmall border-bottom border-gray-light row vert-align-top horz-align-left')\n",
    "            header = soup.find('header', class_='bg-white small-down-padding-medium padding-large radius-small border-all border-gray-light cmpt-grid-header margin-bottom-medium')\n",
    "            overviewblock = soup.find('div', class_='bg-white border-all border-gray-light radius-small small-down-padding-medium padding-large margin-bottom-medium relative')\n",
    "            try:\n",
    "                for li in lis:\n",
    "                    if 'language' in li.find('i').get('class')[0]:\n",
    "                        language = li.find('a').text.strip()\n",
    "            except:\n",
    "                language = missing\n",
    "            try:\n",
    "                for li in lis:\n",
    "                    if 'dollar' in li.find('i').get('class')[0]:\n",
    "                        cost = li.find('span').text.strip()\n",
    "            except:\n",
    "                cost = missing\n",
    "            try:\n",
    "                for li in lis:\n",
    "                    if 'credential' in li.find('i').get('class')[0]:\n",
    "                        certificate_availability = li.find('span').text.strip()\n",
    "            except:\n",
    "                certificate_availability = missing\n",
    "            try:\n",
    "                for li in lis:\n",
    "                    if 'clock' in li.find('i').get('class')[0]:\n",
    "                        duration = li.find('span').text.strip()\n",
    "            except:\n",
    "                duration = missing\n",
    "            try:\n",
    "                stars = header.find('span', class_= 'cmpt-rating-xlarge').get('aria-label')\n",
    "            except:\n",
    "                stars = missing\n",
    "            try:\n",
    "                reviews = header.find('span', class_= 'margin-left-xxsmall').text.strip()\n",
    "            except:\n",
    "                reviews = missing\n",
    "            try:\n",
    "                overview = overviewblock.text.strip().replace('\\n', ' ').replace('\\xa02 ', ' ').replace('/', ' ').replace('\\xa0', ' ')\n",
    "            except:\n",
    "                overview = missing\n",
    "            temp_dic2  = {\n",
    "                          'site' : row['site'],\n",
    "                          'course_name' : row['course_name'],\n",
    "                          'course_link' : row['course_link'],\n",
    "                          'language' : language,\n",
    "                          'cost' : cost,\n",
    "                          'certificate_availability' : certificate_availability,\n",
    "                          'duration' : duration,\n",
    "                          'stars' : stars,\n",
    "                          'reviews' : reviews,\n",
    "                          'overview' : overview}\n",
    "            courses = courses.append(temp_dic2, ignore_index=True)\n",
    "        else:\n",
    "            print('Response Status in page links not 200')\n",
    "    except:\n",
    "        print('Connection error')"
   ]
  },
  {
   "cell_type": "code",
   "execution_count": 240,
   "metadata": {
    "ExecuteTime": {
     "end_time": "2021-07-15T17:04:24.406205Z",
     "start_time": "2021-07-15T17:04:23.971736Z"
    }
   },
   "outputs": [],
   "source": [
    "courses.to_csv('courses.csv', index=False)"
   ]
  },
  {
   "cell_type": "code",
   "execution_count": 239,
   "metadata": {
    "ExecuteTime": {
     "end_time": "2021-07-15T17:03:40.177647Z",
     "start_time": "2021-07-15T17:03:40.143739Z"
    }
   },
   "outputs": [
    {
     "data": {
      "text/html": [
       "<div>\n",
       "<style scoped>\n",
       "    .dataframe tbody tr th:only-of-type {\n",
       "        vertical-align: middle;\n",
       "    }\n",
       "\n",
       "    .dataframe tbody tr th {\n",
       "        vertical-align: top;\n",
       "    }\n",
       "\n",
       "    .dataframe thead th {\n",
       "        text-align: right;\n",
       "    }\n",
       "</style>\n",
       "<table border=\"1\" class=\"dataframe\">\n",
       "  <thead>\n",
       "    <tr style=\"text-align: right;\">\n",
       "      <th></th>\n",
       "      <th>certificate_availability</th>\n",
       "      <th>cost</th>\n",
       "      <th>course_link</th>\n",
       "      <th>course_name</th>\n",
       "      <th>duration</th>\n",
       "      <th>language</th>\n",
       "      <th>overview</th>\n",
       "      <th>reviews</th>\n",
       "      <th>site</th>\n",
       "      <th>stars</th>\n",
       "    </tr>\n",
       "  </thead>\n",
       "  <tbody>\n",
       "    <tr>\n",
       "      <th>0</th>\n",
       "      <td>Certificate Available</td>\n",
       "      <td>Free Online Course</td>\n",
       "      <td>https://www.classcentral.com/course/independen...</td>\n",
       "      <td>Elements of AI</td>\n",
       "      <td>6 weeks long, 5-10 hours a week</td>\n",
       "      <td>English</td>\n",
       "      <td>Overview  The goal of this course is to demyst...</td>\n",
       "      <td>641 reviews</td>\n",
       "      <td>classcentral</td>\n",
       "      <td>Five out of five stars</td>\n",
       "    </tr>\n",
       "    <tr>\n",
       "      <th>1</th>\n",
       "      <td>Paid Certificate Available</td>\n",
       "      <td>Free Online Course (Audit)</td>\n",
       "      <td>https://www.classcentral.com/course/machine-le...</td>\n",
       "      <td>Machine Learning</td>\n",
       "      <td>11 weeks long, 60 hours worth of material</td>\n",
       "      <td>English</td>\n",
       "      <td>Overview  Class Central Tips            Learn ...</td>\n",
       "      <td>375 reviews</td>\n",
       "      <td>classcentral</td>\n",
       "      <td>Five out of five stars</td>\n",
       "    </tr>\n",
       "    <tr>\n",
       "      <th>2</th>\n",
       "      <td>Paid Certificate Available</td>\n",
       "      <td>Free Online Course</td>\n",
       "      <td>https://www.classcentral.com/course/swayam-cyb...</td>\n",
       "      <td>Cyber Security</td>\n",
       "      <td>15 weeks long</td>\n",
       "      <td>English</td>\n",
       "      <td>Overview            1. Why this Course on Cybe...</td>\n",
       "      <td>236 reviews</td>\n",
       "      <td>classcentral</td>\n",
       "      <td>Four and a half out of five stars</td>\n",
       "    </tr>\n",
       "    <tr>\n",
       "      <th>3</th>\n",
       "      <td>$149.00 Certificate Available</td>\n",
       "      <td>Free Online Course (Audit)</td>\n",
       "      <td>https://www.classcentral.com/course/edx-unlock...</td>\n",
       "      <td>Unlocking Information Security I: From Cryptog...</td>\n",
       "      <td>5 weeks long, 4-6 hours a week</td>\n",
       "      <td>English</td>\n",
       "      <td>Overview   Information Security is everywhere:...</td>\n",
       "      <td>236 reviews</td>\n",
       "      <td>classcentral</td>\n",
       "      <td>Five out of five stars</td>\n",
       "    </tr>\n",
       "    <tr>\n",
       "      <th>4</th>\n",
       "      <td>Paid Certificate Available</td>\n",
       "      <td>Free Online Course (Audit)</td>\n",
       "      <td>https://www.classcentral.com/course/informatio...</td>\n",
       "      <td>Information Systems Auditing, Controls and Ass...</td>\n",
       "      <td>4 weeks long, 8 hours worth of material</td>\n",
       "      <td>English</td>\n",
       "      <td>Overview  Class Central Tips            Learn ...</td>\n",
       "      <td>208 reviews</td>\n",
       "      <td>classcentral</td>\n",
       "      <td>Four and a half out of five stars</td>\n",
       "    </tr>\n",
       "    <tr>\n",
       "      <th>...</th>\n",
       "      <td>...</td>\n",
       "      <td>...</td>\n",
       "      <td>...</td>\n",
       "      <td>...</td>\n",
       "      <td>...</td>\n",
       "      <td>...</td>\n",
       "      <td>...</td>\n",
       "      <td>...</td>\n",
       "      <td>...</td>\n",
       "      <td>...</td>\n",
       "    </tr>\n",
       "    <tr>\n",
       "      <th>4343</th>\n",
       "      <td>Certificate Available</td>\n",
       "      <td>Free Online Course</td>\n",
       "      <td>https://www.classcentral.com/course/openhpi-in...</td>\n",
       "      <td>Internetworking with TCP/IP</td>\n",
       "      <td>6 weeks long</td>\n",
       "      <td>English</td>\n",
       "      <td>Overview  The Internet connects more than half...</td>\n",
       "      <td>0 reviews</td>\n",
       "      <td>classcentral</td>\n",
       "      <td>Zero out of five stars</td>\n",
       "    </tr>\n",
       "    <tr>\n",
       "      <th>4344</th>\n",
       "      <td>Certificate Available</td>\n",
       "      <td>Free Online Course</td>\n",
       "      <td>https://www.classcentral.com/course/france-uni...</td>\n",
       "      <td>Deep Learning</td>\n",
       "      <td>6 weeks long, 3 hours a week</td>\n",
       "      <td>French</td>\n",
       "      <td>Overview  À propos du cours Vous êtes passionn...</td>\n",
       "      <td>0 reviews</td>\n",
       "      <td>classcentral</td>\n",
       "      <td>Zero out of five stars</td>\n",
       "    </tr>\n",
       "    <tr>\n",
       "      <th>4345</th>\n",
       "      <td>Paid Certificate Available</td>\n",
       "      <td>Free Online Course (Audit)</td>\n",
       "      <td>https://www.classcentral.com/course/gcp-big-da...</td>\n",
       "      <td>Google Cloud Platform Big Data and Machine Lea...</td>\n",
       "      <td>6 weeks long, 6-10 hours a week</td>\n",
       "      <td>German</td>\n",
       "      <td>Overview  Class Central Tips            Learn ...</td>\n",
       "      <td>0 reviews</td>\n",
       "      <td>classcentral</td>\n",
       "      <td>Zero out of five stars</td>\n",
       "    </tr>\n",
       "    <tr>\n",
       "      <th>4346</th>\n",
       "      <td>Paid Certificate Available</td>\n",
       "      <td>Free Online Course (Audit)</td>\n",
       "      <td>https://www.classcentral.com/course/gcp-fundam...</td>\n",
       "      <td>Google Cloud Platform Fundamentals: Core Infra...</td>\n",
       "      <td>1 week long, 6-10 hours a week</td>\n",
       "      <td>German</td>\n",
       "      <td>Overview  Class Central Tips            Learn ...</td>\n",
       "      <td>0 reviews</td>\n",
       "      <td>classcentral</td>\n",
       "      <td>Zero out of five stars</td>\n",
       "    </tr>\n",
       "    <tr>\n",
       "      <th>4347</th>\n",
       "      <td>Paid Certificate Available</td>\n",
       "      <td>Free Online Course (Audit)</td>\n",
       "      <td>https://www.classcentral.com/course/deploying-...</td>\n",
       "      <td>Architecting with Google Kubernetes Engine: Pr...</td>\n",
       "      <td>1 week long, 13 hours a week</td>\n",
       "      <td>German</td>\n",
       "      <td>Overview  Class Central Tips            Learn ...</td>\n",
       "      <td>0 reviews</td>\n",
       "      <td>classcentral</td>\n",
       "      <td>Zero out of five stars</td>\n",
       "    </tr>\n",
       "  </tbody>\n",
       "</table>\n",
       "<p>4348 rows × 10 columns</p>\n",
       "</div>"
      ],
      "text/plain": [
       "           certificate_availability                        cost  \\\n",
       "0             Certificate Available          Free Online Course   \n",
       "1        Paid Certificate Available  Free Online Course (Audit)   \n",
       "2        Paid Certificate Available          Free Online Course   \n",
       "3     $149.00 Certificate Available  Free Online Course (Audit)   \n",
       "4        Paid Certificate Available  Free Online Course (Audit)   \n",
       "...                             ...                         ...   \n",
       "4343          Certificate Available          Free Online Course   \n",
       "4344          Certificate Available          Free Online Course   \n",
       "4345     Paid Certificate Available  Free Online Course (Audit)   \n",
       "4346     Paid Certificate Available  Free Online Course (Audit)   \n",
       "4347     Paid Certificate Available  Free Online Course (Audit)   \n",
       "\n",
       "                                            course_link  \\\n",
       "0     https://www.classcentral.com/course/independen...   \n",
       "1     https://www.classcentral.com/course/machine-le...   \n",
       "2     https://www.classcentral.com/course/swayam-cyb...   \n",
       "3     https://www.classcentral.com/course/edx-unlock...   \n",
       "4     https://www.classcentral.com/course/informatio...   \n",
       "...                                                 ...   \n",
       "4343  https://www.classcentral.com/course/openhpi-in...   \n",
       "4344  https://www.classcentral.com/course/france-uni...   \n",
       "4345  https://www.classcentral.com/course/gcp-big-da...   \n",
       "4346  https://www.classcentral.com/course/gcp-fundam...   \n",
       "4347  https://www.classcentral.com/course/deploying-...   \n",
       "\n",
       "                                            course_name  \\\n",
       "0                                        Elements of AI   \n",
       "1                                      Machine Learning   \n",
       "2                                        Cyber Security   \n",
       "3     Unlocking Information Security I: From Cryptog...   \n",
       "4     Information Systems Auditing, Controls and Ass...   \n",
       "...                                                 ...   \n",
       "4343                        Internetworking with TCP/IP   \n",
       "4344                                      Deep Learning   \n",
       "4345  Google Cloud Platform Big Data and Machine Lea...   \n",
       "4346  Google Cloud Platform Fundamentals: Core Infra...   \n",
       "4347  Architecting with Google Kubernetes Engine: Pr...   \n",
       "\n",
       "                                       duration language  \\\n",
       "0               6 weeks long, 5-10 hours a week  English   \n",
       "1     11 weeks long, 60 hours worth of material  English   \n",
       "2                                 15 weeks long  English   \n",
       "3                5 weeks long, 4-6 hours a week  English   \n",
       "4       4 weeks long, 8 hours worth of material  English   \n",
       "...                                         ...      ...   \n",
       "4343                               6 weeks long  English   \n",
       "4344               6 weeks long, 3 hours a week   French   \n",
       "4345            6 weeks long, 6-10 hours a week   German   \n",
       "4346             1 week long, 6-10 hours a week   German   \n",
       "4347               1 week long, 13 hours a week   German   \n",
       "\n",
       "                                               overview      reviews  \\\n",
       "0     Overview  The goal of this course is to demyst...  641 reviews   \n",
       "1     Overview  Class Central Tips            Learn ...  375 reviews   \n",
       "2     Overview            1. Why this Course on Cybe...  236 reviews   \n",
       "3     Overview   Information Security is everywhere:...  236 reviews   \n",
       "4     Overview  Class Central Tips            Learn ...  208 reviews   \n",
       "...                                                 ...          ...   \n",
       "4343  Overview  The Internet connects more than half...    0 reviews   \n",
       "4344  Overview  À propos du cours Vous êtes passionn...    0 reviews   \n",
       "4345  Overview  Class Central Tips            Learn ...    0 reviews   \n",
       "4346  Overview  Class Central Tips            Learn ...    0 reviews   \n",
       "4347  Overview  Class Central Tips            Learn ...    0 reviews   \n",
       "\n",
       "              site                              stars  \n",
       "0     classcentral             Five out of five stars  \n",
       "1     classcentral             Five out of five stars  \n",
       "2     classcentral  Four and a half out of five stars  \n",
       "3     classcentral             Five out of five stars  \n",
       "4     classcentral  Four and a half out of five stars  \n",
       "...            ...                                ...  \n",
       "4343  classcentral             Zero out of five stars  \n",
       "4344  classcentral             Zero out of five stars  \n",
       "4345  classcentral             Zero out of five stars  \n",
       "4346  classcentral             Zero out of five stars  \n",
       "4347  classcentral             Zero out of five stars  \n",
       "\n",
       "[4348 rows x 10 columns]"
      ]
     },
     "execution_count": 239,
     "metadata": {},
     "output_type": "execute_result"
    }
   ],
   "source": [
    "courses"
   ]
  },
  {
   "cell_type": "code",
   "execution_count": 242,
   "metadata": {
    "ExecuteTime": {
     "end_time": "2021-07-15T17:06:03.870966Z",
     "start_time": "2021-07-15T17:06:03.859996Z"
    }
   },
   "outputs": [
    {
     "data": {
      "text/plain": [
       "'Overview            Building on the core ideas presented in Distributed Machine Learning with Spark, this course covers advanced topics for training and deploying large-scale learning pipelines. You will study state-of-the-art distributed algorithms for collaborative filtering, ensemble methods (e.g., random forests), clustering and topic modeling, with a focus on model parallelism and the crucial tradeoffs between computation and communication.  After completing this course, you will have a thorough understanding of the statistical and algorithmic principles required to develop and deploy distributed machine learning pipelines. You will further have the expertise to write efficient and scalable code in Spark, using MLlib and the spark.ml package in particular.             Taught by Ameet Talwalkar and Jon Bates   Tags                      usa'"
      ]
     },
     "execution_count": 242,
     "metadata": {},
     "output_type": "execute_result"
    }
   ],
   "source": [
    "courses['overview'][4000]"
   ]
  },
  {
   "cell_type": "code",
   "execution_count": 194,
   "metadata": {
    "ExecuteTime": {
     "end_time": "2021-07-15T11:16:48.571322Z",
     "start_time": "2021-07-15T11:16:48.562346Z"
    }
   },
   "outputs": [
    {
     "data": {
      "text/plain": [
       "'https://www.classcentral.com/course/opensap-sap-s-4hana-in-a-nutshell-3252'"
      ]
     },
     "execution_count": 194,
     "metadata": {},
     "output_type": "execute_result"
    }
   ],
   "source": [
    "df['course_link'][1000]"
   ]
  },
  {
   "cell_type": "code",
   "execution_count": null,
   "metadata": {},
   "outputs": [],
   "source": []
  }
 ],
 "metadata": {
  "kernelspec": {
   "display_name": "Python 3",
   "language": "python",
   "name": "python3"
  },
  "language_info": {
   "codemirror_mode": {
    "name": "ipython",
    "version": 3
   },
   "file_extension": ".py",
   "mimetype": "text/x-python",
   "name": "python",
   "nbconvert_exporter": "python",
   "pygments_lexer": "ipython3",
   "version": "3.8.5"
  }
 },
 "nbformat": 4,
 "nbformat_minor": 4
}
